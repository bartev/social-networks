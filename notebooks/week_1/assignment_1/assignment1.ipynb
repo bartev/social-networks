{
 "cells": [
  {
   "cell_type": "markdown",
   "metadata": {
    "deletable": false,
    "editable": false,
    "nbgrader": {
     "cell_type": "markdown",
     "checksum": "bb4e2877f2f4b2e6ed4718d2893634c1",
     "grade": false,
     "grade_id": "cell-69c39b45a3de0dce",
     "locked": true,
     "schema_version": 3,
     "solution": false,
     "task": false
    }
   },
   "source": [
    "# Assignment 1 - Creating and Manipulating Graphs\n",
    "\n",
    "Eight employees at a small company were asked to choose 3 movies that they would most enjoy watching for the upcoming company movie night. These choices are stored in the file `assets/Employee_Movie_Choices.txt`.\n",
    "\n",
    "A second file, `assets/Employee_Relationships.txt`, has data on the relationships between different coworkers. \n",
    "\n",
    "The relationship score has value of `-100` (Enemies) to `+100` (Best Friends). A value of zero means the two employees haven't interacted or are indifferent.\n",
    "\n",
    "Both files are tab delimited."
   ]
  },
  {
   "cell_type": "code",
   "execution_count": null,
   "metadata": {
    "deletable": false,
    "editable": false,
    "nbgrader": {
     "cell_type": "code",
     "checksum": "9ebfce92d32aebeb619da8610d22bbbf",
     "grade": false,
     "grade_id": "cell-880320d7430bc93c",
     "locked": true,
     "schema_version": 3,
     "solution": false,
     "task": false
    }
   },
   "outputs": [],
   "source": [
    "import networkx as nx\n",
    "import pandas as pd\n",
    "import numpy as np\n",
    "\n",
    "\n",
    "# This is the set of employees\n",
    "employees = set(\n",
    "    [\"Pablo\", \"Lee\", \"Georgia\", \"Vincent\", \"Andy\", \"Frida\", \"Joan\", \"Claude\"]\n",
    ")\n",
    "\n",
    "# This is the set of movies\n",
    "movies = set(\n",
    "    [\n",
    "        \"The Shawshank Redemption\",\n",
    "        \"Forrest Gump\",\n",
    "        \"The Matrix\",\n",
    "        \"Anaconda\",\n",
    "        \"The Social Network\",\n",
    "        \"The Godfather\",\n",
    "        \"Monty Python and the Holy Grail\",\n",
    "        \"Snakes on a Plane\",\n",
    "        \"Kung Fu Panda\",\n",
    "        \"The Dark Knight\",\n",
    "        \"Mean Girls\",\n",
    "    ]\n",
    ")\n",
    "\n",
    "\n",
    "# you can use the following function to plot graphs\n",
    "# make sure to comment it out before submitting to the autograder\n",
    "def plot_graph(G, weight_name=None):\n",
    "    \"\"\"\n",
    "    G: a networkx G\n",
    "    weight_name: name of the attribute for plotting edge weights (if G is weighted)\n",
    "    \"\"\"\n",
    "    # %matplotlib notebook\n",
    "    import matplotlib.pyplot as plt\n",
    "\n",
    "    plt.figure()\n",
    "    pos = nx.spring_layout(G)\n",
    "    edges = G.edges()\n",
    "    weights = None\n",
    "\n",
    "    if weight_name:\n",
    "        weights = [int(G[u][v][weight_name]) for u, v in edges]\n",
    "        labels = nx.get_edge_attributes(G, weight_name)\n",
    "        nx.draw_networkx_edge_labels(G, pos, edge_labels=labels)\n",
    "        nx.draw_networkx(G, pos, width=weights)\n",
    "    else:\n",
    "        nx.draw_networkx(\n",
    "            G,\n",
    "            pos,\n",
    "        )"
   ]
  },
  {
   "cell_type": "markdown",
   "metadata": {
    "deletable": false,
    "editable": false,
    "nbgrader": {
     "cell_type": "markdown",
     "checksum": "0b6347bb31ef371bbca723a98ae77ab3",
     "grade": false,
     "grade_id": "cell-1790d513ed5dcd72",
     "locked": true,
     "schema_version": 3,
     "solution": false,
     "task": false
    }
   },
   "source": [
    "### Question 1\n",
    "\n",
    "Using NetworkX, load in the bipartite graph from `assets/Employee_Movie_Choices.txt` and return that graph.\n",
    "\n",
    "*This function should return a bipartite networkx graph with 19 nodes and 24 edges*"
   ]
  },
  {
   "cell_type": "code",
   "execution_count": 24,
   "metadata": {},
   "outputs": [],
   "source": [
    "column_names = [\"emp\", \"movie\"]\n",
    "movie_choices = pd.read_csv(\n",
    "    \"assets/Employee_Movie_Choices.txt\", header=0, delimiter=\"\\t\", names=column_names\n",
    ")"
   ]
  },
  {
   "cell_type": "code",
   "execution_count": 25,
   "metadata": {},
   "outputs": [
    {
     "data": {
      "application/vnd.microsoft.datawrangler.viewer.v0+json": {
       "columns": [
        {
         "name": "index",
         "rawType": "int64",
         "type": "integer"
        },
        {
         "name": "emp",
         "rawType": "object",
         "type": "string"
        },
        {
         "name": "movie",
         "rawType": "object",
         "type": "string"
        }
       ],
       "conversionMethod": "pd.DataFrame",
       "ref": "47fabe64-340c-4e59-9864-591f9102c012",
       "rows": [
        [
         "0",
         "Andy",
         "Anaconda"
        ],
        [
         "1",
         "Andy",
         "Mean Girls"
        ],
        [
         "2",
         "Andy",
         "The Matrix"
        ],
        [
         "3",
         "Claude",
         "Anaconda"
        ],
        [
         "4",
         "Claude",
         "Monty Python and the Holy Grail"
        ],
        [
         "5",
         "Claude",
         "Snakes on a Plane"
        ],
        [
         "6",
         "Frida",
         "The Matrix"
        ],
        [
         "7",
         "Frida",
         "The Shawshank Redemption"
        ],
        [
         "8",
         "Frida",
         "The Social Network"
        ],
        [
         "9",
         "Georgia",
         "Anaconda"
        ],
        [
         "10",
         "Georgia",
         "Monty Python and the Holy Grail"
        ],
        [
         "11",
         "Georgia",
         "Snakes on a Plane"
        ],
        [
         "12",
         "Joan",
         "Forrest Gump"
        ],
        [
         "13",
         "Joan",
         "Kung Fu Panda"
        ],
        [
         "14",
         "Joan",
         "Mean Girls"
        ],
        [
         "15",
         "Lee",
         "Forrest Gump"
        ],
        [
         "16",
         "Lee",
         "Kung Fu Panda"
        ],
        [
         "17",
         "Lee",
         "Mean Girls"
        ],
        [
         "18",
         "Pablo",
         "The Dark Knight"
        ],
        [
         "19",
         "Pablo",
         "The Matrix"
        ],
        [
         "20",
         "Pablo",
         "The Shawshank Redemption"
        ],
        [
         "21",
         "Vincent",
         "The Godfather"
        ],
        [
         "22",
         "Vincent",
         "The Shawshank Redemption"
        ],
        [
         "23",
         "Vincent",
         "The Social Network"
        ]
       ],
       "shape": {
        "columns": 2,
        "rows": 24
       }
      },
      "text/html": [
       "<div>\n",
       "<style scoped>\n",
       "    .dataframe tbody tr th:only-of-type {\n",
       "        vertical-align: middle;\n",
       "    }\n",
       "\n",
       "    .dataframe tbody tr th {\n",
       "        vertical-align: top;\n",
       "    }\n",
       "\n",
       "    .dataframe thead th {\n",
       "        text-align: right;\n",
       "    }\n",
       "</style>\n",
       "<table border=\"1\" class=\"dataframe\">\n",
       "  <thead>\n",
       "    <tr style=\"text-align: right;\">\n",
       "      <th></th>\n",
       "      <th>emp</th>\n",
       "      <th>movie</th>\n",
       "    </tr>\n",
       "  </thead>\n",
       "  <tbody>\n",
       "    <tr>\n",
       "      <th>0</th>\n",
       "      <td>Andy</td>\n",
       "      <td>Anaconda</td>\n",
       "    </tr>\n",
       "    <tr>\n",
       "      <th>1</th>\n",
       "      <td>Andy</td>\n",
       "      <td>Mean Girls</td>\n",
       "    </tr>\n",
       "    <tr>\n",
       "      <th>2</th>\n",
       "      <td>Andy</td>\n",
       "      <td>The Matrix</td>\n",
       "    </tr>\n",
       "    <tr>\n",
       "      <th>3</th>\n",
       "      <td>Claude</td>\n",
       "      <td>Anaconda</td>\n",
       "    </tr>\n",
       "    <tr>\n",
       "      <th>4</th>\n",
       "      <td>Claude</td>\n",
       "      <td>Monty Python and the Holy Grail</td>\n",
       "    </tr>\n",
       "    <tr>\n",
       "      <th>5</th>\n",
       "      <td>Claude</td>\n",
       "      <td>Snakes on a Plane</td>\n",
       "    </tr>\n",
       "    <tr>\n",
       "      <th>6</th>\n",
       "      <td>Frida</td>\n",
       "      <td>The Matrix</td>\n",
       "    </tr>\n",
       "    <tr>\n",
       "      <th>7</th>\n",
       "      <td>Frida</td>\n",
       "      <td>The Shawshank Redemption</td>\n",
       "    </tr>\n",
       "    <tr>\n",
       "      <th>8</th>\n",
       "      <td>Frida</td>\n",
       "      <td>The Social Network</td>\n",
       "    </tr>\n",
       "    <tr>\n",
       "      <th>9</th>\n",
       "      <td>Georgia</td>\n",
       "      <td>Anaconda</td>\n",
       "    </tr>\n",
       "    <tr>\n",
       "      <th>10</th>\n",
       "      <td>Georgia</td>\n",
       "      <td>Monty Python and the Holy Grail</td>\n",
       "    </tr>\n",
       "    <tr>\n",
       "      <th>11</th>\n",
       "      <td>Georgia</td>\n",
       "      <td>Snakes on a Plane</td>\n",
       "    </tr>\n",
       "    <tr>\n",
       "      <th>12</th>\n",
       "      <td>Joan</td>\n",
       "      <td>Forrest Gump</td>\n",
       "    </tr>\n",
       "    <tr>\n",
       "      <th>13</th>\n",
       "      <td>Joan</td>\n",
       "      <td>Kung Fu Panda</td>\n",
       "    </tr>\n",
       "    <tr>\n",
       "      <th>14</th>\n",
       "      <td>Joan</td>\n",
       "      <td>Mean Girls</td>\n",
       "    </tr>\n",
       "    <tr>\n",
       "      <th>15</th>\n",
       "      <td>Lee</td>\n",
       "      <td>Forrest Gump</td>\n",
       "    </tr>\n",
       "    <tr>\n",
       "      <th>16</th>\n",
       "      <td>Lee</td>\n",
       "      <td>Kung Fu Panda</td>\n",
       "    </tr>\n",
       "    <tr>\n",
       "      <th>17</th>\n",
       "      <td>Lee</td>\n",
       "      <td>Mean Girls</td>\n",
       "    </tr>\n",
       "    <tr>\n",
       "      <th>18</th>\n",
       "      <td>Pablo</td>\n",
       "      <td>The Dark Knight</td>\n",
       "    </tr>\n",
       "    <tr>\n",
       "      <th>19</th>\n",
       "      <td>Pablo</td>\n",
       "      <td>The Matrix</td>\n",
       "    </tr>\n",
       "    <tr>\n",
       "      <th>20</th>\n",
       "      <td>Pablo</td>\n",
       "      <td>The Shawshank Redemption</td>\n",
       "    </tr>\n",
       "    <tr>\n",
       "      <th>21</th>\n",
       "      <td>Vincent</td>\n",
       "      <td>The Godfather</td>\n",
       "    </tr>\n",
       "    <tr>\n",
       "      <th>22</th>\n",
       "      <td>Vincent</td>\n",
       "      <td>The Shawshank Redemption</td>\n",
       "    </tr>\n",
       "    <tr>\n",
       "      <th>23</th>\n",
       "      <td>Vincent</td>\n",
       "      <td>The Social Network</td>\n",
       "    </tr>\n",
       "  </tbody>\n",
       "</table>\n",
       "</div>"
      ],
      "text/plain": [
       "        emp                            movie\n",
       "0      Andy                         Anaconda\n",
       "1      Andy                       Mean Girls\n",
       "2      Andy                       The Matrix\n",
       "3    Claude                         Anaconda\n",
       "4    Claude  Monty Python and the Holy Grail\n",
       "5    Claude                Snakes on a Plane\n",
       "6     Frida                       The Matrix\n",
       "7     Frida         The Shawshank Redemption\n",
       "8     Frida               The Social Network\n",
       "9   Georgia                         Anaconda\n",
       "10  Georgia  Monty Python and the Holy Grail\n",
       "11  Georgia                Snakes on a Plane\n",
       "12     Joan                     Forrest Gump\n",
       "13     Joan                    Kung Fu Panda\n",
       "14     Joan                       Mean Girls\n",
       "15      Lee                     Forrest Gump\n",
       "16      Lee                    Kung Fu Panda\n",
       "17      Lee                       Mean Girls\n",
       "18    Pablo                  The Dark Knight\n",
       "19    Pablo                       The Matrix\n",
       "20    Pablo         The Shawshank Redemption\n",
       "21  Vincent                    The Godfather\n",
       "22  Vincent         The Shawshank Redemption\n",
       "23  Vincent               The Social Network"
      ]
     },
     "execution_count": 25,
     "metadata": {},
     "output_type": "execute_result"
    }
   ],
   "source": [
    "movie_choices"
   ]
  },
  {
   "cell_type": "code",
   "execution_count": 22,
   "metadata": {},
   "outputs": [
    {
     "data": {
      "application/vnd.microsoft.datawrangler.viewer.v0+json": {
       "columns": [
        {
         "name": "index",
         "rawType": "int64",
         "type": "integer"
        },
        {
         "name": "emp1",
         "rawType": "object",
         "type": "string"
        },
        {
         "name": "emp2",
         "rawType": "object",
         "type": "string"
        },
        {
         "name": "score",
         "rawType": "int64",
         "type": "integer"
        }
       ],
       "conversionMethod": "pd.DataFrame",
       "ref": "7810efde-22fd-46fb-b300-61a8797698a8",
       "rows": [
        [
         "0",
         "Andy",
         "Claude",
         "0"
        ],
        [
         "1",
         "Andy",
         "Frida",
         "20"
        ],
        [
         "2",
         "Andy",
         "Georgia",
         "-10"
        ],
        [
         "3",
         "Andy",
         "Joan",
         "30"
        ],
        [
         "4",
         "Andy",
         "Lee",
         "-10"
        ],
        [
         "5",
         "Andy",
         "Pablo",
         "-10"
        ],
        [
         "6",
         "Andy",
         "Vincent",
         "20"
        ],
        [
         "7",
         "Claude",
         "Frida",
         "0"
        ],
        [
         "8",
         "Claude",
         "Georgia",
         "90"
        ],
        [
         "9",
         "Claude",
         "Joan",
         "0"
        ],
        [
         "10",
         "Claude",
         "Lee",
         "0"
        ],
        [
         "11",
         "Claude",
         "Pablo",
         "10"
        ],
        [
         "12",
         "Claude",
         "Vincent",
         "0"
        ],
        [
         "13",
         "Frida",
         "Georgia",
         "0"
        ],
        [
         "14",
         "Frida",
         "Joan",
         "0"
        ],
        [
         "15",
         "Frida",
         "Lee",
         "0"
        ],
        [
         "16",
         "Frida",
         "Pablo",
         "50"
        ],
        [
         "17",
         "Frida",
         "Vincent",
         "60"
        ],
        [
         "18",
         "Georgia",
         "Joan",
         "0"
        ],
        [
         "19",
         "Georgia",
         "Lee",
         "10"
        ],
        [
         "20",
         "Georgia",
         "Pablo",
         "0"
        ],
        [
         "21",
         "Georgia",
         "Vincent",
         "0"
        ],
        [
         "22",
         "Joan",
         "Lee",
         "70"
        ],
        [
         "23",
         "Joan",
         "Pablo",
         "0"
        ],
        [
         "24",
         "Joan",
         "Vincent",
         "10"
        ],
        [
         "25",
         "Lee",
         "Pablo",
         "0"
        ],
        [
         "26",
         "Lee",
         "Vincent",
         "0"
        ],
        [
         "27",
         "Pablo",
         "Vincent",
         "-20"
        ]
       ],
       "shape": {
        "columns": 3,
        "rows": 28
       }
      },
      "text/html": [
       "<div>\n",
       "<style scoped>\n",
       "    .dataframe tbody tr th:only-of-type {\n",
       "        vertical-align: middle;\n",
       "    }\n",
       "\n",
       "    .dataframe tbody tr th {\n",
       "        vertical-align: top;\n",
       "    }\n",
       "\n",
       "    .dataframe thead th {\n",
       "        text-align: right;\n",
       "    }\n",
       "</style>\n",
       "<table border=\"1\" class=\"dataframe\">\n",
       "  <thead>\n",
       "    <tr style=\"text-align: right;\">\n",
       "      <th></th>\n",
       "      <th>emp1</th>\n",
       "      <th>emp2</th>\n",
       "      <th>score</th>\n",
       "    </tr>\n",
       "  </thead>\n",
       "  <tbody>\n",
       "    <tr>\n",
       "      <th>0</th>\n",
       "      <td>Andy</td>\n",
       "      <td>Claude</td>\n",
       "      <td>0</td>\n",
       "    </tr>\n",
       "    <tr>\n",
       "      <th>1</th>\n",
       "      <td>Andy</td>\n",
       "      <td>Frida</td>\n",
       "      <td>20</td>\n",
       "    </tr>\n",
       "    <tr>\n",
       "      <th>2</th>\n",
       "      <td>Andy</td>\n",
       "      <td>Georgia</td>\n",
       "      <td>-10</td>\n",
       "    </tr>\n",
       "    <tr>\n",
       "      <th>3</th>\n",
       "      <td>Andy</td>\n",
       "      <td>Joan</td>\n",
       "      <td>30</td>\n",
       "    </tr>\n",
       "    <tr>\n",
       "      <th>4</th>\n",
       "      <td>Andy</td>\n",
       "      <td>Lee</td>\n",
       "      <td>-10</td>\n",
       "    </tr>\n",
       "    <tr>\n",
       "      <th>5</th>\n",
       "      <td>Andy</td>\n",
       "      <td>Pablo</td>\n",
       "      <td>-10</td>\n",
       "    </tr>\n",
       "    <tr>\n",
       "      <th>6</th>\n",
       "      <td>Andy</td>\n",
       "      <td>Vincent</td>\n",
       "      <td>20</td>\n",
       "    </tr>\n",
       "    <tr>\n",
       "      <th>7</th>\n",
       "      <td>Claude</td>\n",
       "      <td>Frida</td>\n",
       "      <td>0</td>\n",
       "    </tr>\n",
       "    <tr>\n",
       "      <th>8</th>\n",
       "      <td>Claude</td>\n",
       "      <td>Georgia</td>\n",
       "      <td>90</td>\n",
       "    </tr>\n",
       "    <tr>\n",
       "      <th>9</th>\n",
       "      <td>Claude</td>\n",
       "      <td>Joan</td>\n",
       "      <td>0</td>\n",
       "    </tr>\n",
       "    <tr>\n",
       "      <th>10</th>\n",
       "      <td>Claude</td>\n",
       "      <td>Lee</td>\n",
       "      <td>0</td>\n",
       "    </tr>\n",
       "    <tr>\n",
       "      <th>11</th>\n",
       "      <td>Claude</td>\n",
       "      <td>Pablo</td>\n",
       "      <td>10</td>\n",
       "    </tr>\n",
       "    <tr>\n",
       "      <th>12</th>\n",
       "      <td>Claude</td>\n",
       "      <td>Vincent</td>\n",
       "      <td>0</td>\n",
       "    </tr>\n",
       "    <tr>\n",
       "      <th>13</th>\n",
       "      <td>Frida</td>\n",
       "      <td>Georgia</td>\n",
       "      <td>0</td>\n",
       "    </tr>\n",
       "    <tr>\n",
       "      <th>14</th>\n",
       "      <td>Frida</td>\n",
       "      <td>Joan</td>\n",
       "      <td>0</td>\n",
       "    </tr>\n",
       "    <tr>\n",
       "      <th>15</th>\n",
       "      <td>Frida</td>\n",
       "      <td>Lee</td>\n",
       "      <td>0</td>\n",
       "    </tr>\n",
       "    <tr>\n",
       "      <th>16</th>\n",
       "      <td>Frida</td>\n",
       "      <td>Pablo</td>\n",
       "      <td>50</td>\n",
       "    </tr>\n",
       "    <tr>\n",
       "      <th>17</th>\n",
       "      <td>Frida</td>\n",
       "      <td>Vincent</td>\n",
       "      <td>60</td>\n",
       "    </tr>\n",
       "    <tr>\n",
       "      <th>18</th>\n",
       "      <td>Georgia</td>\n",
       "      <td>Joan</td>\n",
       "      <td>0</td>\n",
       "    </tr>\n",
       "    <tr>\n",
       "      <th>19</th>\n",
       "      <td>Georgia</td>\n",
       "      <td>Lee</td>\n",
       "      <td>10</td>\n",
       "    </tr>\n",
       "    <tr>\n",
       "      <th>20</th>\n",
       "      <td>Georgia</td>\n",
       "      <td>Pablo</td>\n",
       "      <td>0</td>\n",
       "    </tr>\n",
       "    <tr>\n",
       "      <th>21</th>\n",
       "      <td>Georgia</td>\n",
       "      <td>Vincent</td>\n",
       "      <td>0</td>\n",
       "    </tr>\n",
       "    <tr>\n",
       "      <th>22</th>\n",
       "      <td>Joan</td>\n",
       "      <td>Lee</td>\n",
       "      <td>70</td>\n",
       "    </tr>\n",
       "    <tr>\n",
       "      <th>23</th>\n",
       "      <td>Joan</td>\n",
       "      <td>Pablo</td>\n",
       "      <td>0</td>\n",
       "    </tr>\n",
       "    <tr>\n",
       "      <th>24</th>\n",
       "      <td>Joan</td>\n",
       "      <td>Vincent</td>\n",
       "      <td>10</td>\n",
       "    </tr>\n",
       "    <tr>\n",
       "      <th>25</th>\n",
       "      <td>Lee</td>\n",
       "      <td>Pablo</td>\n",
       "      <td>0</td>\n",
       "    </tr>\n",
       "    <tr>\n",
       "      <th>26</th>\n",
       "      <td>Lee</td>\n",
       "      <td>Vincent</td>\n",
       "      <td>0</td>\n",
       "    </tr>\n",
       "    <tr>\n",
       "      <th>27</th>\n",
       "      <td>Pablo</td>\n",
       "      <td>Vincent</td>\n",
       "      <td>-20</td>\n",
       "    </tr>\n",
       "  </tbody>\n",
       "</table>\n",
       "</div>"
      ],
      "text/plain": [
       "       emp1     emp2  score\n",
       "0      Andy   Claude      0\n",
       "1      Andy    Frida     20\n",
       "2      Andy  Georgia    -10\n",
       "3      Andy     Joan     30\n",
       "4      Andy      Lee    -10\n",
       "5      Andy    Pablo    -10\n",
       "6      Andy  Vincent     20\n",
       "7    Claude    Frida      0\n",
       "8    Claude  Georgia     90\n",
       "9    Claude     Joan      0\n",
       "10   Claude      Lee      0\n",
       "11   Claude    Pablo     10\n",
       "12   Claude  Vincent      0\n",
       "13    Frida  Georgia      0\n",
       "14    Frida     Joan      0\n",
       "15    Frida      Lee      0\n",
       "16    Frida    Pablo     50\n",
       "17    Frida  Vincent     60\n",
       "18  Georgia     Joan      0\n",
       "19  Georgia      Lee     10\n",
       "20  Georgia    Pablo      0\n",
       "21  Georgia  Vincent      0\n",
       "22     Joan      Lee     70\n",
       "23     Joan    Pablo      0\n",
       "24     Joan  Vincent     10\n",
       "25      Lee    Pablo      0\n",
       "26      Lee  Vincent      0\n",
       "27    Pablo  Vincent    -20"
      ]
     },
     "execution_count": 22,
     "metadata": {},
     "output_type": "execute_result"
    }
   ],
   "source": [
    "employee_relationships"
   ]
  },
  {
   "cell_type": "code",
   "execution_count": null,
   "metadata": {},
   "outputs": [],
   "source": [
    "g_bi = nx.from_pandas_edgelist(movie_choices, \"emp\", \"movie\")"
   ]
  },
  {
   "cell_type": "code",
   "execution_count": 59,
   "metadata": {},
   "outputs": [],
   "source": [
    "assert not g_bi.is_multigraph()\n",
    "assert not g_bi.is_directed()"
   ]
  },
  {
   "cell_type": "code",
   "execution_count": null,
   "metadata": {},
   "outputs": [],
   "source": [
    "from networkx.algorithms import bipartite\n",
    "\n",
    "bipartite.is_bipartite(g_bi)"
   ]
  },
  {
   "cell_type": "markdown",
   "metadata": {},
   "source": [
    "I'm not sure how to determine the order here.  \n",
    "If I really wanted to, I could check for set memebership of one of the names"
   ]
  },
  {
   "cell_type": "code",
   "execution_count": 57,
   "metadata": {},
   "outputs": [],
   "source": [
    "emps, movies = bipartite.sets(g_bi)"
   ]
  },
  {
   "cell_type": "code",
   "execution_count": 44,
   "metadata": {},
   "outputs": [
    {
     "data": {
      "text/plain": [
       "{'Andy', 'Claude', 'Frida', 'Georgia', 'Joan', 'Lee', 'Pablo', 'Vincent'}"
      ]
     },
     "execution_count": 44,
     "metadata": {},
     "output_type": "execute_result"
    }
   ],
   "source": [
    "emps"
   ]
  },
  {
   "cell_type": "code",
   "execution_count": 45,
   "metadata": {},
   "outputs": [
    {
     "data": {
      "text/plain": [
       "{'Anaconda',\n",
       " 'Forrest Gump',\n",
       " 'Kung Fu Panda',\n",
       " 'Mean Girls',\n",
       " 'Monty Python and the Holy Grail',\n",
       " 'Snakes on a Plane',\n",
       " 'The Dark Knight',\n",
       " 'The Godfather',\n",
       " 'The Matrix',\n",
       " 'The Shawshank Redemption',\n",
       " 'The Social Network'}"
      ]
     },
     "execution_count": 45,
     "metadata": {},
     "output_type": "execute_result"
    }
   ],
   "source": [
    "movies"
   ]
  },
  {
   "cell_type": "code",
   "execution_count": null,
   "metadata": {
    "deletable": false,
    "nbgrader": {
     "cell_type": "code",
     "checksum": "e1d9e71e3686a4633566908ab722faab",
     "grade": false,
     "grade_id": "cell-e815deb246dc7c0f",
     "locked": false,
     "schema_version": 3,
     "solution": true,
     "task": false
    }
   },
   "outputs": [],
   "source": [
    "def answer_one():\n",
    "\n",
    "    # YOUR CODE HERE\n",
    "    column_names = [\"emp\", \"movie\"]\n",
    "    movie_choices = pd.read_csv(\n",
    "        \"assets/Employee_Movie_Choices.txt\",\n",
    "        header=0,\n",
    "        delimiter=\"\\t\",\n",
    "        names=column_names,\n",
    "    )\n",
    "    g_bi = nx.from_pandas_edgelist(movie_choices, \"emp\", \"movie\")\n",
    "    return g_bi"
   ]
  },
  {
   "cell_type": "code",
   "execution_count": null,
   "metadata": {
    "deletable": false,
    "editable": false,
    "nbgrader": {
     "cell_type": "code",
     "checksum": "3f8a6334e337a41d20d03f2f8695869b",
     "grade": true,
     "grade_id": "cell-029237261317f603",
     "locked": true,
     "points": 2,
     "schema_version": 3,
     "solution": false,
     "task": false
    }
   },
   "outputs": [],
   "source": [
    "assert type(answer_one()) == nx.Graph, \"Your return type should be a Graph object\"\n",
    "assert bipartite.is_bipartite(g_bi)"
   ]
  },
  {
   "cell_type": "markdown",
   "metadata": {
    "deletable": false,
    "editable": false,
    "nbgrader": {
     "cell_type": "markdown",
     "checksum": "31d0ec5303fd9cc6e60cd483df78a3c5",
     "grade": false,
     "grade_id": "cell-249394e1cc31d0ca",
     "locked": true,
     "schema_version": 3,
     "solution": false,
     "task": false
    }
   },
   "source": [
    "### Question 2\n",
    "\n",
    "Using the graph from the previous question, add nodes attributes named `'type'` where movies have the value `'movie'` and employees have the value `'employee'` and return that graph.\n",
    "\n",
    "*This function should return a bipartite networkx graph with node attributes `{'type': 'movie'}` or `{'type': 'employee'}`*"
   ]
  },
  {
   "cell_type": "code",
   "execution_count": null,
   "metadata": {
    "deletable": false,
    "nbgrader": {
     "cell_type": "code",
     "checksum": "c94a82f1cdebf5de6a596a3d7574e7cd",
     "grade": false,
     "grade_id": "cell-4e6cd02626012f3d",
     "locked": false,
     "schema_version": 3,
     "solution": true,
     "task": false
    }
   },
   "outputs": [],
   "source": [
    "def answer_two():\n",
    "\n",
    "    # YOUR CODE HERE\n",
    "    from networkx.algorithms import bipartite\n",
    "\n",
    "    g_bi = answer_one()\n",
    "    emps, movies = bipartite.sets(g_bi)\n",
    "\n",
    "    for employee in emps:\n",
    "        g_bi.nodes()[employee][\"type\"] = \"employee\"\n",
    "\n",
    "    for movie in movies:\n",
    "        g_bi.nodes()[movie][\"type\"] = \"movie\"\n",
    "    return g_bi"
   ]
  },
  {
   "cell_type": "code",
   "execution_count": 75,
   "metadata": {},
   "outputs": [
    {
     "data": {
      "text/plain": [
       "24"
      ]
     },
     "execution_count": 75,
     "metadata": {},
     "output_type": "execute_result"
    }
   ],
   "source": [
    "len(answer_two().edges())"
   ]
  },
  {
   "cell_type": "code",
   "execution_count": null,
   "metadata": {
    "deletable": false,
    "editable": false,
    "nbgrader": {
     "cell_type": "code",
     "checksum": "6df8d9fd4f193c5997afafc0c55a4723",
     "grade": true,
     "grade_id": "cell-c0500f828d5662fb",
     "locked": true,
     "points": 2,
     "schema_version": 3,
     "solution": false,
     "task": false
    }
   },
   "outputs": [],
   "source": [
    "assert type(answer_two()) == nx.Graph, \"Your return type should be a Graph object\"\n",
    "assert len(answer_two().edges()) == 24\n",
    "assert len(answer_two().nodes()) == 19"
   ]
  },
  {
   "cell_type": "markdown",
   "metadata": {
    "deletable": false,
    "editable": false,
    "nbgrader": {
     "cell_type": "markdown",
     "checksum": "eb66ee80f345c2a630a06e6535bdccc0",
     "grade": false,
     "grade_id": "cell-533037784f789d72",
     "locked": true,
     "schema_version": 3,
     "solution": false,
     "task": false
    }
   },
   "source": [
    "### Question 3\n",
    "\n",
    "Find a weighted projection of the graph from `answer_two` which tells us how many movies different pairs of employees have in common.\n",
    "\n",
    "*This function should return a weighted projected graph.*"
   ]
  },
  {
   "cell_type": "code",
   "execution_count": 60,
   "metadata": {},
   "outputs": [],
   "source": [
    "p = bipartite.projected_graph(g_bi, emps)"
   ]
  },
  {
   "cell_type": "code",
   "execution_count": 65,
   "metadata": {},
   "outputs": [],
   "source": [
    "pw = bipartite.weighted_projected_graph(g_bi, emps)"
   ]
  },
  {
   "cell_type": "code",
   "execution_count": 67,
   "metadata": {},
   "outputs": [
    {
     "data": {
      "text/plain": [
       "EdgeDataView([('Lee', 'Joan', {'weight': 3}), ('Lee', 'Andy', {'weight': 1}), ('Georgia', 'Claude', {'weight': 3}), ('Georgia', 'Andy', {'weight': 1}), ('Vincent', 'Pablo', {'weight': 1}), ('Vincent', 'Frida', {'weight': 2}), ('Andy', 'Joan', {'weight': 1}), ('Andy', 'Frida', {'weight': 1}), ('Andy', 'Claude', {'weight': 1}), ('Andy', 'Pablo', {'weight': 1}), ('Frida', 'Pablo', {'weight': 2})])"
      ]
     },
     "execution_count": 67,
     "metadata": {},
     "output_type": "execute_result"
    }
   ],
   "source": [
    "pw.edges(data=True)"
   ]
  },
  {
   "cell_type": "code",
   "execution_count": 126,
   "metadata": {
    "deletable": false,
    "nbgrader": {
     "cell_type": "code",
     "checksum": "6a379f240aa02023d75b7defe4b11416",
     "grade": false,
     "grade_id": "cell-e85f388dda0fc212",
     "locked": false,
     "schema_version": 3,
     "solution": true,
     "task": false
    }
   },
   "outputs": [],
   "source": [
    "def answer_three():\n",
    "    # YOUR CODE HERE\n",
    "    from networkx.algorithms import bipartite\n",
    "\n",
    "    g_bi = answer_two()\n",
    "    emps, movies = bipartite.sets(g_bi)\n",
    "\n",
    "    pw = bipartite.weighted_projected_graph(g_bi, emps)\n",
    "    return pw"
   ]
  },
  {
   "cell_type": "code",
   "execution_count": 127,
   "metadata": {
    "deletable": false,
    "editable": false,
    "nbgrader": {
     "cell_type": "code",
     "checksum": "f26f092b5bdb8dfe0331595b6c463ea4",
     "grade": false,
     "grade_id": "cell-6b4a16b4c1bab3d2",
     "locked": true,
     "schema_version": 3,
     "solution": false,
     "task": false
    }
   },
   "outputs": [
    {
     "data": {
      "text/plain": [
       "EdgeDataView([('Lee', 'Joan', {'weight': 3}), ('Lee', 'Andy', {'weight': 1}), ('Georgia', 'Claude', {'weight': 3}), ('Georgia', 'Andy', {'weight': 1}), ('Vincent', 'Pablo', {'weight': 1}), ('Vincent', 'Frida', {'weight': 2}), ('Andy', 'Joan', {'weight': 1}), ('Andy', 'Frida', {'weight': 1}), ('Andy', 'Claude', {'weight': 1}), ('Andy', 'Pablo', {'weight': 1}), ('Frida', 'Pablo', {'weight': 2})])"
      ]
     },
     "execution_count": 127,
     "metadata": {},
     "output_type": "execute_result"
    },
    {
     "data": {
      "image/png": "[encoded data removed]",
      "text/plain": [
       "<Figure size 640x480 with 1 Axes>"
      ]
     },
     "metadata": {},
     "output_type": "display_data"
    }
   ],
   "source": [
    "G = answer_three()\n",
    "plot_graph(G, weight_name=\"weight\")\n",
    "G.edges(data=True)"
   ]
  },
  {
   "cell_type": "code",
   "execution_count": null,
   "metadata": {
    "deletable": false,
    "editable": false,
    "nbgrader": {
     "cell_type": "code",
     "checksum": "bfcb5ab968326a6601fb98510d7d61bd",
     "grade": true,
     "grade_id": "cell-2778b8d02bc4ca1c",
     "locked": true,
     "points": 1,
     "schema_version": 3,
     "solution": false,
     "task": false
    }
   },
   "outputs": [],
   "source": [
    "assert type(answer_three()) == nx.Graph, \"Your return type should be a Graph object\""
   ]
  },
  {
   "cell_type": "markdown",
   "metadata": {
    "deletable": false,
    "editable": false,
    "nbgrader": {
     "cell_type": "markdown",
     "checksum": "f30fedf55c4d28936a56146e82a4318f",
     "grade": false,
     "grade_id": "cell-7334d98bbe114440",
     "locked": true,
     "schema_version": 3,
     "solution": false,
     "task": false
    }
   },
   "source": [
    "### Question 4\n",
    "\n",
    "Suppose you'd like to find out if people that have a high relationship score also like the same types of movies.\n",
    "\n",
    "Find the pearson correlation between employee relationship scores and the number of movies they have in common. If two employees have no movies in common it should be treated as a 0, not a missing value, and should be included in the correlation calculation.\n",
    "\n",
    "*This function should return a float.*"
   ]
  },
  {
   "cell_type": "code",
   "execution_count": 83,
   "metadata": {},
   "outputs": [
    {
     "data": {
      "text/plain": [
       "[('Lee', 'Joan', {'weight': 3}),\n",
       " ('Lee', 'Andy', {'weight': 1}),\n",
       " ('Georgia', 'Claude', {'weight': 3}),\n",
       " ('Georgia', 'Andy', {'weight': 1}),\n",
       " ('Vincent', 'Pablo', {'weight': 1}),\n",
       " ('Vincent', 'Frida', {'weight': 2}),\n",
       " ('Andy', 'Joan', {'weight': 1}),\n",
       " ('Andy', 'Frida', {'weight': 1}),\n",
       " ('Andy', 'Claude', {'weight': 1}),\n",
       " ('Andy', 'Pablo', {'weight': 1}),\n",
       " ('Frida', 'Pablo', {'weight': 2})]"
      ]
     },
     "execution_count": 83,
     "metadata": {},
     "output_type": "execute_result"
    }
   ],
   "source": [
    "pw = answer_three()\n",
    "list(pw.edges(data=True))"
   ]
  },
  {
   "cell_type": "markdown",
   "metadata": {},
   "source": [
    "Sort the employee names for consistency, so we don't miss one"
   ]
  },
  {
   "cell_type": "code",
   "execution_count": null,
   "metadata": {},
   "outputs": [
    {
     "data": {
      "text/plain": [
       "[('Andy', 'Claude', 1),\n",
       " ('Andy', 'Frida', 1),\n",
       " ('Andy', 'Georgia', 1),\n",
       " ('Andy', 'Joan', 1),\n",
       " ('Andy', 'Lee', 1),\n",
       " ('Andy', 'Pablo', 1),\n",
       " ('Claude', 'Georgia', 3),\n",
       " ('Frida', 'Pablo', 2),\n",
       " ('Frida', 'Vincent', 2),\n",
       " ('Joan', 'Lee', 3),\n",
       " ('Pablo', 'Vincent', 1)]"
      ]
     },
     "execution_count": 90,
     "metadata": {},
     "output_type": "execute_result"
    }
   ],
   "source": [
    "shared_movies_data = sorted(\n",
    "    [(*sorted([u, v]), d[\"weight\"]) for u, v, d in pw.edges(data=True)]\n",
    ")\n",
    "shared_movies_data"
   ]
  },
  {
   "cell_type": "code",
   "execution_count": 115,
   "metadata": {},
   "outputs": [
    {
     "data": {
      "application/vnd.microsoft.datawrangler.viewer.v0+json": {
       "columns": [
        {
         "name": "index",
         "rawType": "int64",
         "type": "integer"
        },
        {
         "name": "employee1",
         "rawType": "object",
         "type": "string"
        },
        {
         "name": "employee2",
         "rawType": "object",
         "type": "string"
        },
        {
         "name": "shared_movie_count",
         "rawType": "int64",
         "type": "integer"
        }
       ],
       "conversionMethod": "pd.DataFrame",
       "ref": "79dc1a19-cdab-4e6b-84ab-438942e72beb",
       "rows": [
        [
         "0",
         "Andy",
         "Claude",
         "1"
        ],
        [
         "1",
         "Andy",
         "Frida",
         "1"
        ],
        [
         "2",
         "Andy",
         "Georgia",
         "1"
        ],
        [
         "3",
         "Andy",
         "Joan",
         "1"
        ],
        [
         "4",
         "Andy",
         "Lee",
         "1"
        ],
        [
         "5",
         "Andy",
         "Pablo",
         "1"
        ],
        [
         "6",
         "Claude",
         "Georgia",
         "3"
        ],
        [
         "7",
         "Frida",
         "Pablo",
         "2"
        ],
        [
         "8",
         "Frida",
         "Vincent",
         "2"
        ],
        [
         "9",
         "Joan",
         "Lee",
         "3"
        ],
        [
         "10",
         "Pablo",
         "Vincent",
         "1"
        ]
       ],
       "shape": {
        "columns": 3,
        "rows": 11
       }
      },
      "text/html": [
       "<div>\n",
       "<style scoped>\n",
       "    .dataframe tbody tr th:only-of-type {\n",
       "        vertical-align: middle;\n",
       "    }\n",
       "\n",
       "    .dataframe tbody tr th {\n",
       "        vertical-align: top;\n",
       "    }\n",
       "\n",
       "    .dataframe thead th {\n",
       "        text-align: right;\n",
       "    }\n",
       "</style>\n",
       "<table border=\"1\" class=\"dataframe\">\n",
       "  <thead>\n",
       "    <tr style=\"text-align: right;\">\n",
       "      <th></th>\n",
       "      <th>employee1</th>\n",
       "      <th>employee2</th>\n",
       "      <th>shared_movie_count</th>\n",
       "    </tr>\n",
       "  </thead>\n",
       "  <tbody>\n",
       "    <tr>\n",
       "      <th>0</th>\n",
       "      <td>Andy</td>\n",
       "      <td>Claude</td>\n",
       "      <td>1</td>\n",
       "    </tr>\n",
       "    <tr>\n",
       "      <th>1</th>\n",
       "      <td>Andy</td>\n",
       "      <td>Frida</td>\n",
       "      <td>1</td>\n",
       "    </tr>\n",
       "    <tr>\n",
       "      <th>2</th>\n",
       "      <td>Andy</td>\n",
       "      <td>Georgia</td>\n",
       "      <td>1</td>\n",
       "    </tr>\n",
       "    <tr>\n",
       "      <th>3</th>\n",
       "      <td>Andy</td>\n",
       "      <td>Joan</td>\n",
       "      <td>1</td>\n",
       "    </tr>\n",
       "    <tr>\n",
       "      <th>4</th>\n",
       "      <td>Andy</td>\n",
       "      <td>Lee</td>\n",
       "      <td>1</td>\n",
       "    </tr>\n",
       "    <tr>\n",
       "      <th>5</th>\n",
       "      <td>Andy</td>\n",
       "      <td>Pablo</td>\n",
       "      <td>1</td>\n",
       "    </tr>\n",
       "    <tr>\n",
       "      <th>6</th>\n",
       "      <td>Claude</td>\n",
       "      <td>Georgia</td>\n",
       "      <td>3</td>\n",
       "    </tr>\n",
       "    <tr>\n",
       "      <th>7</th>\n",
       "      <td>Frida</td>\n",
       "      <td>Pablo</td>\n",
       "      <td>2</td>\n",
       "    </tr>\n",
       "    <tr>\n",
       "      <th>8</th>\n",
       "      <td>Frida</td>\n",
       "      <td>Vincent</td>\n",
       "      <td>2</td>\n",
       "    </tr>\n",
       "    <tr>\n",
       "      <th>9</th>\n",
       "      <td>Joan</td>\n",
       "      <td>Lee</td>\n",
       "      <td>3</td>\n",
       "    </tr>\n",
       "    <tr>\n",
       "      <th>10</th>\n",
       "      <td>Pablo</td>\n",
       "      <td>Vincent</td>\n",
       "      <td>1</td>\n",
       "    </tr>\n",
       "  </tbody>\n",
       "</table>\n",
       "</div>"
      ],
      "text/plain": [
       "   employee1 employee2  shared_movie_count\n",
       "0       Andy    Claude                   1\n",
       "1       Andy     Frida                   1\n",
       "2       Andy   Georgia                   1\n",
       "3       Andy      Joan                   1\n",
       "4       Andy       Lee                   1\n",
       "5       Andy     Pablo                   1\n",
       "6     Claude   Georgia                   3\n",
       "7      Frida     Pablo                   2\n",
       "8      Frida   Vincent                   2\n",
       "9       Joan       Lee                   3\n",
       "10     Pablo   Vincent                   1"
      ]
     },
     "execution_count": 115,
     "metadata": {},
     "output_type": "execute_result"
    }
   ],
   "source": [
    "shared_movies = pd.DataFrame(\n",
    "    data=shared_movies_data, columns=[\"employee1\", \"employee2\", \"shared_movie_count\"]\n",
    ")\n",
    "shared_movies"
   ]
  },
  {
   "cell_type": "code",
   "execution_count": 114,
   "metadata": {},
   "outputs": [
    {
     "data": {
      "application/vnd.microsoft.datawrangler.viewer.v0+json": {
       "columns": [
        {
         "name": "index",
         "rawType": "int64",
         "type": "integer"
        },
        {
         "name": "employee1",
         "rawType": "object",
         "type": "string"
        },
        {
         "name": "employee2",
         "rawType": "object",
         "type": "string"
        },
        {
         "name": "relationship",
         "rawType": "int64",
         "type": "integer"
        }
       ],
       "conversionMethod": "pd.DataFrame",
       "ref": "cbbcff63-edb4-4303-8392-c9d0ce3d6624",
       "rows": [
        [
         "0",
         "Andy",
         "Claude",
         "0"
        ],
        [
         "1",
         "Andy",
         "Frida",
         "20"
        ],
        [
         "2",
         "Andy",
         "Georgia",
         "-10"
        ],
        [
         "3",
         "Andy",
         "Joan",
         "30"
        ],
        [
         "4",
         "Andy",
         "Lee",
         "-10"
        ],
        [
         "5",
         "Andy",
         "Pablo",
         "-10"
        ],
        [
         "6",
         "Andy",
         "Vincent",
         "20"
        ],
        [
         "7",
         "Claude",
         "Frida",
         "0"
        ],
        [
         "8",
         "Claude",
         "Georgia",
         "90"
        ],
        [
         "9",
         "Claude",
         "Joan",
         "0"
        ],
        [
         "10",
         "Claude",
         "Lee",
         "0"
        ],
        [
         "11",
         "Claude",
         "Pablo",
         "10"
        ],
        [
         "12",
         "Claude",
         "Vincent",
         "0"
        ],
        [
         "13",
         "Frida",
         "Georgia",
         "0"
        ],
        [
         "14",
         "Frida",
         "Joan",
         "0"
        ],
        [
         "15",
         "Frida",
         "Lee",
         "0"
        ],
        [
         "16",
         "Frida",
         "Pablo",
         "50"
        ],
        [
         "17",
         "Frida",
         "Vincent",
         "60"
        ],
        [
         "18",
         "Georgia",
         "Joan",
         "0"
        ],
        [
         "19",
         "Georgia",
         "Lee",
         "10"
        ],
        [
         "20",
         "Georgia",
         "Pablo",
         "0"
        ],
        [
         "21",
         "Georgia",
         "Vincent",
         "0"
        ],
        [
         "22",
         "Joan",
         "Lee",
         "70"
        ],
        [
         "23",
         "Joan",
         "Pablo",
         "0"
        ],
        [
         "24",
         "Joan",
         "Vincent",
         "10"
        ],
        [
         "25",
         "Lee",
         "Pablo",
         "0"
        ],
        [
         "26",
         "Lee",
         "Vincent",
         "0"
        ],
        [
         "27",
         "Pablo",
         "Vincent",
         "-20"
        ]
       ],
       "shape": {
        "columns": 3,
        "rows": 28
       }
      },
      "text/html": [
       "<div>\n",
       "<style scoped>\n",
       "    .dataframe tbody tr th:only-of-type {\n",
       "        vertical-align: middle;\n",
       "    }\n",
       "\n",
       "    .dataframe tbody tr th {\n",
       "        vertical-align: top;\n",
       "    }\n",
       "\n",
       "    .dataframe thead th {\n",
       "        text-align: right;\n",
       "    }\n",
       "</style>\n",
       "<table border=\"1\" class=\"dataframe\">\n",
       "  <thead>\n",
       "    <tr style=\"text-align: right;\">\n",
       "      <th></th>\n",
       "      <th>employee1</th>\n",
       "      <th>employee2</th>\n",
       "      <th>relationship</th>\n",
       "    </tr>\n",
       "  </thead>\n",
       "  <tbody>\n",
       "    <tr>\n",
       "      <th>0</th>\n",
       "      <td>Andy</td>\n",
       "      <td>Claude</td>\n",
       "      <td>0</td>\n",
       "    </tr>\n",
       "    <tr>\n",
       "      <th>1</th>\n",
       "      <td>Andy</td>\n",
       "      <td>Frida</td>\n",
       "      <td>20</td>\n",
       "    </tr>\n",
       "    <tr>\n",
       "      <th>2</th>\n",
       "      <td>Andy</td>\n",
       "      <td>Georgia</td>\n",
       "      <td>-10</td>\n",
       "    </tr>\n",
       "    <tr>\n",
       "      <th>3</th>\n",
       "      <td>Andy</td>\n",
       "      <td>Joan</td>\n",
       "      <td>30</td>\n",
       "    </tr>\n",
       "    <tr>\n",
       "      <th>4</th>\n",
       "      <td>Andy</td>\n",
       "      <td>Lee</td>\n",
       "      <td>-10</td>\n",
       "    </tr>\n",
       "    <tr>\n",
       "      <th>5</th>\n",
       "      <td>Andy</td>\n",
       "      <td>Pablo</td>\n",
       "      <td>-10</td>\n",
       "    </tr>\n",
       "    <tr>\n",
       "      <th>6</th>\n",
       "      <td>Andy</td>\n",
       "      <td>Vincent</td>\n",
       "      <td>20</td>\n",
       "    </tr>\n",
       "    <tr>\n",
       "      <th>7</th>\n",
       "      <td>Claude</td>\n",
       "      <td>Frida</td>\n",
       "      <td>0</td>\n",
       "    </tr>\n",
       "    <tr>\n",
       "      <th>8</th>\n",
       "      <td>Claude</td>\n",
       "      <td>Georgia</td>\n",
       "      <td>90</td>\n",
       "    </tr>\n",
       "    <tr>\n",
       "      <th>9</th>\n",
       "      <td>Claude</td>\n",
       "      <td>Joan</td>\n",
       "      <td>0</td>\n",
       "    </tr>\n",
       "    <tr>\n",
       "      <th>10</th>\n",
       "      <td>Claude</td>\n",
       "      <td>Lee</td>\n",
       "      <td>0</td>\n",
       "    </tr>\n",
       "    <tr>\n",
       "      <th>11</th>\n",
       "      <td>Claude</td>\n",
       "      <td>Pablo</td>\n",
       "      <td>10</td>\n",
       "    </tr>\n",
       "    <tr>\n",
       "      <th>12</th>\n",
       "      <td>Claude</td>\n",
       "      <td>Vincent</td>\n",
       "      <td>0</td>\n",
       "    </tr>\n",
       "    <tr>\n",
       "      <th>13</th>\n",
       "      <td>Frida</td>\n",
       "      <td>Georgia</td>\n",
       "      <td>0</td>\n",
       "    </tr>\n",
       "    <tr>\n",
       "      <th>14</th>\n",
       "      <td>Frida</td>\n",
       "      <td>Joan</td>\n",
       "      <td>0</td>\n",
       "    </tr>\n",
       "    <tr>\n",
       "      <th>15</th>\n",
       "      <td>Frida</td>\n",
       "      <td>Lee</td>\n",
       "      <td>0</td>\n",
       "    </tr>\n",
       "    <tr>\n",
       "      <th>16</th>\n",
       "      <td>Frida</td>\n",
       "      <td>Pablo</td>\n",
       "      <td>50</td>\n",
       "    </tr>\n",
       "    <tr>\n",
       "      <th>17</th>\n",
       "      <td>Frida</td>\n",
       "      <td>Vincent</td>\n",
       "      <td>60</td>\n",
       "    </tr>\n",
       "    <tr>\n",
       "      <th>18</th>\n",
       "      <td>Georgia</td>\n",
       "      <td>Joan</td>\n",
       "      <td>0</td>\n",
       "    </tr>\n",
       "    <tr>\n",
       "      <th>19</th>\n",
       "      <td>Georgia</td>\n",
       "      <td>Lee</td>\n",
       "      <td>10</td>\n",
       "    </tr>\n",
       "    <tr>\n",
       "      <th>20</th>\n",
       "      <td>Georgia</td>\n",
       "      <td>Pablo</td>\n",
       "      <td>0</td>\n",
       "    </tr>\n",
       "    <tr>\n",
       "      <th>21</th>\n",
       "      <td>Georgia</td>\n",
       "      <td>Vincent</td>\n",
       "      <td>0</td>\n",
       "    </tr>\n",
       "    <tr>\n",
       "      <th>22</th>\n",
       "      <td>Joan</td>\n",
       "      <td>Lee</td>\n",
       "      <td>70</td>\n",
       "    </tr>\n",
       "    <tr>\n",
       "      <th>23</th>\n",
       "      <td>Joan</td>\n",
       "      <td>Pablo</td>\n",
       "      <td>0</td>\n",
       "    </tr>\n",
       "    <tr>\n",
       "      <th>24</th>\n",
       "      <td>Joan</td>\n",
       "      <td>Vincent</td>\n",
       "      <td>10</td>\n",
       "    </tr>\n",
       "    <tr>\n",
       "      <th>25</th>\n",
       "      <td>Lee</td>\n",
       "      <td>Pablo</td>\n",
       "      <td>0</td>\n",
       "    </tr>\n",
       "    <tr>\n",
       "      <th>26</th>\n",
       "      <td>Lee</td>\n",
       "      <td>Vincent</td>\n",
       "      <td>0</td>\n",
       "    </tr>\n",
       "    <tr>\n",
       "      <th>27</th>\n",
       "      <td>Pablo</td>\n",
       "      <td>Vincent</td>\n",
       "      <td>-20</td>\n",
       "    </tr>\n",
       "  </tbody>\n",
       "</table>\n",
       "</div>"
      ],
      "text/plain": [
       "   employee1 employee2  relationship\n",
       "0       Andy    Claude             0\n",
       "1       Andy     Frida            20\n",
       "2       Andy   Georgia           -10\n",
       "3       Andy      Joan            30\n",
       "4       Andy       Lee           -10\n",
       "5       Andy     Pablo           -10\n",
       "6       Andy   Vincent            20\n",
       "7     Claude     Frida             0\n",
       "8     Claude   Georgia            90\n",
       "9     Claude      Joan             0\n",
       "10    Claude       Lee             0\n",
       "11    Claude     Pablo            10\n",
       "12    Claude   Vincent             0\n",
       "13     Frida   Georgia             0\n",
       "14     Frida      Joan             0\n",
       "15     Frida       Lee             0\n",
       "16     Frida     Pablo            50\n",
       "17     Frida   Vincent            60\n",
       "18   Georgia      Joan             0\n",
       "19   Georgia       Lee            10\n",
       "20   Georgia     Pablo             0\n",
       "21   Georgia   Vincent             0\n",
       "22      Joan       Lee            70\n",
       "23      Joan     Pablo             0\n",
       "24      Joan   Vincent            10\n",
       "25       Lee     Pablo             0\n",
       "26       Lee   Vincent             0\n",
       "27     Pablo   Vincent           -20"
      ]
     },
     "execution_count": 114,
     "metadata": {},
     "output_type": "execute_result"
    }
   ],
   "source": [
    "column_names = [\"emp1\", \"emp2\", \"relationship\"]\n",
    "employee_relationships = pd.read_csv(\n",
    "    \"assets/Employee_Relationships.txt\", header=None, delimiter=\"\\t\", names=column_names\n",
    ").assign(\n",
    "    **{\n",
    "        \"employee1\": lambda df: df[[\"emp1\", \"emp2\"]].apply(\n",
    "            lambda row: sorted(row)[0], axis=1\n",
    "        ),\n",
    "        \"employee2\": lambda df: df[[\"emp1\", \"emp2\"]].apply(\n",
    "            lambda row: sorted(row)[1], axis=1\n",
    "        ),\n",
    "    }\n",
    ")[\n",
    "    [\"employee1\", \"employee2\", \"relationship\"]\n",
    "]\n",
    "employee_relationships"
   ]
  },
  {
   "cell_type": "code",
   "execution_count": 118,
   "metadata": {},
   "outputs": [
    {
     "data": {
      "application/vnd.microsoft.datawrangler.viewer.v0+json": {
       "columns": [
        {
         "name": "index",
         "rawType": "int64",
         "type": "integer"
        },
        {
         "name": "employee1",
         "rawType": "object",
         "type": "string"
        },
        {
         "name": "employee2",
         "rawType": "object",
         "type": "string"
        },
        {
         "name": "shared_movie_count",
         "rawType": "float64",
         "type": "float"
        },
        {
         "name": "relationship",
         "rawType": "int64",
         "type": "integer"
        }
       ],
       "conversionMethod": "pd.DataFrame",
       "ref": "95d3dd0b-27f2-4781-af07-b83f612d4cc7",
       "rows": [
        [
         "0",
         "Andy",
         "Claude",
         "1.0",
         "0"
        ],
        [
         "1",
         "Andy",
         "Frida",
         "1.0",
         "20"
        ],
        [
         "2",
         "Andy",
         "Georgia",
         "1.0",
         "-10"
        ],
        [
         "3",
         "Andy",
         "Joan",
         "1.0",
         "30"
        ],
        [
         "4",
         "Andy",
         "Lee",
         "1.0",
         "-10"
        ],
        [
         "5",
         "Andy",
         "Pablo",
         "1.0",
         "-10"
        ],
        [
         "6",
         "Andy",
         "Vincent",
         "0.0",
         "20"
        ],
        [
         "7",
         "Claude",
         "Frida",
         "0.0",
         "0"
        ],
        [
         "8",
         "Claude",
         "Georgia",
         "3.0",
         "90"
        ],
        [
         "9",
         "Claude",
         "Joan",
         "0.0",
         "0"
        ],
        [
         "10",
         "Claude",
         "Lee",
         "0.0",
         "0"
        ],
        [
         "11",
         "Claude",
         "Pablo",
         "0.0",
         "10"
        ],
        [
         "12",
         "Claude",
         "Vincent",
         "0.0",
         "0"
        ],
        [
         "13",
         "Frida",
         "Georgia",
         "0.0",
         "0"
        ],
        [
         "14",
         "Frida",
         "Joan",
         "0.0",
         "0"
        ],
        [
         "15",
         "Frida",
         "Lee",
         "0.0",
         "0"
        ],
        [
         "16",
         "Frida",
         "Pablo",
         "2.0",
         "50"
        ],
        [
         "17",
         "Frida",
         "Vincent",
         "2.0",
         "60"
        ],
        [
         "18",
         "Georgia",
         "Joan",
         "0.0",
         "0"
        ],
        [
         "19",
         "Georgia",
         "Lee",
         "0.0",
         "10"
        ],
        [
         "20",
         "Georgia",
         "Pablo",
         "0.0",
         "0"
        ],
        [
         "21",
         "Georgia",
         "Vincent",
         "0.0",
         "0"
        ],
        [
         "22",
         "Joan",
         "Lee",
         "3.0",
         "70"
        ],
        [
         "23",
         "Joan",
         "Pablo",
         "0.0",
         "0"
        ],
        [
         "24",
         "Joan",
         "Vincent",
         "0.0",
         "10"
        ],
        [
         "25",
         "Lee",
         "Pablo",
         "0.0",
         "0"
        ],
        [
         "26",
         "Lee",
         "Vincent",
         "0.0",
         "0"
        ],
        [
         "27",
         "Pablo",
         "Vincent",
         "1.0",
         "-20"
        ]
       ],
       "shape": {
        "columns": 4,
        "rows": 28
       }
      },
      "text/html": [
       "<div>\n",
       "<style scoped>\n",
       "    .dataframe tbody tr th:only-of-type {\n",
       "        vertical-align: middle;\n",
       "    }\n",
       "\n",
       "    .dataframe tbody tr th {\n",
       "        vertical-align: top;\n",
       "    }\n",
       "\n",
       "    .dataframe thead th {\n",
       "        text-align: right;\n",
       "    }\n",
       "</style>\n",
       "<table border=\"1\" class=\"dataframe\">\n",
       "  <thead>\n",
       "    <tr style=\"text-align: right;\">\n",
       "      <th></th>\n",
       "      <th>employee1</th>\n",
       "      <th>employee2</th>\n",
       "      <th>shared_movie_count</th>\n",
       "      <th>relationship</th>\n",
       "    </tr>\n",
       "  </thead>\n",
       "  <tbody>\n",
       "    <tr>\n",
       "      <th>0</th>\n",
       "      <td>Andy</td>\n",
       "      <td>Claude</td>\n",
       "      <td>1.0</td>\n",
       "      <td>0</td>\n",
       "    </tr>\n",
       "    <tr>\n",
       "      <th>1</th>\n",
       "      <td>Andy</td>\n",
       "      <td>Frida</td>\n",
       "      <td>1.0</td>\n",
       "      <td>20</td>\n",
       "    </tr>\n",
       "    <tr>\n",
       "      <th>2</th>\n",
       "      <td>Andy</td>\n",
       "      <td>Georgia</td>\n",
       "      <td>1.0</td>\n",
       "      <td>-10</td>\n",
       "    </tr>\n",
       "    <tr>\n",
       "      <th>3</th>\n",
       "      <td>Andy</td>\n",
       "      <td>Joan</td>\n",
       "      <td>1.0</td>\n",
       "      <td>30</td>\n",
       "    </tr>\n",
       "    <tr>\n",
       "      <th>4</th>\n",
       "      <td>Andy</td>\n",
       "      <td>Lee</td>\n",
       "      <td>1.0</td>\n",
       "      <td>-10</td>\n",
       "    </tr>\n",
       "    <tr>\n",
       "      <th>5</th>\n",
       "      <td>Andy</td>\n",
       "      <td>Pablo</td>\n",
       "      <td>1.0</td>\n",
       "      <td>-10</td>\n",
       "    </tr>\n",
       "    <tr>\n",
       "      <th>6</th>\n",
       "      <td>Andy</td>\n",
       "      <td>Vincent</td>\n",
       "      <td>0.0</td>\n",
       "      <td>20</td>\n",
       "    </tr>\n",
       "    <tr>\n",
       "      <th>7</th>\n",
       "      <td>Claude</td>\n",
       "      <td>Frida</td>\n",
       "      <td>0.0</td>\n",
       "      <td>0</td>\n",
       "    </tr>\n",
       "    <tr>\n",
       "      <th>8</th>\n",
       "      <td>Claude</td>\n",
       "      <td>Georgia</td>\n",
       "      <td>3.0</td>\n",
       "      <td>90</td>\n",
       "    </tr>\n",
       "    <tr>\n",
       "      <th>9</th>\n",
       "      <td>Claude</td>\n",
       "      <td>Joan</td>\n",
       "      <td>0.0</td>\n",
       "      <td>0</td>\n",
       "    </tr>\n",
       "    <tr>\n",
       "      <th>10</th>\n",
       "      <td>Claude</td>\n",
       "      <td>Lee</td>\n",
       "      <td>0.0</td>\n",
       "      <td>0</td>\n",
       "    </tr>\n",
       "    <tr>\n",
       "      <th>11</th>\n",
       "      <td>Claude</td>\n",
       "      <td>Pablo</td>\n",
       "      <td>0.0</td>\n",
       "      <td>10</td>\n",
       "    </tr>\n",
       "    <tr>\n",
       "      <th>12</th>\n",
       "      <td>Claude</td>\n",
       "      <td>Vincent</td>\n",
       "      <td>0.0</td>\n",
       "      <td>0</td>\n",
       "    </tr>\n",
       "    <tr>\n",
       "      <th>13</th>\n",
       "      <td>Frida</td>\n",
       "      <td>Georgia</td>\n",
       "      <td>0.0</td>\n",
       "      <td>0</td>\n",
       "    </tr>\n",
       "    <tr>\n",
       "      <th>14</th>\n",
       "      <td>Frida</td>\n",
       "      <td>Joan</td>\n",
       "      <td>0.0</td>\n",
       "      <td>0</td>\n",
       "    </tr>\n",
       "    <tr>\n",
       "      <th>15</th>\n",
       "      <td>Frida</td>\n",
       "      <td>Lee</td>\n",
       "      <td>0.0</td>\n",
       "      <td>0</td>\n",
       "    </tr>\n",
       "    <tr>\n",
       "      <th>16</th>\n",
       "      <td>Frida</td>\n",
       "      <td>Pablo</td>\n",
       "      <td>2.0</td>\n",
       "      <td>50</td>\n",
       "    </tr>\n",
       "    <tr>\n",
       "      <th>17</th>\n",
       "      <td>Frida</td>\n",
       "      <td>Vincent</td>\n",
       "      <td>2.0</td>\n",
       "      <td>60</td>\n",
       "    </tr>\n",
       "    <tr>\n",
       "      <th>18</th>\n",
       "      <td>Georgia</td>\n",
       "      <td>Joan</td>\n",
       "      <td>0.0</td>\n",
       "      <td>0</td>\n",
       "    </tr>\n",
       "    <tr>\n",
       "      <th>19</th>\n",
       "      <td>Georgia</td>\n",
       "      <td>Lee</td>\n",
       "      <td>0.0</td>\n",
       "      <td>10</td>\n",
       "    </tr>\n",
       "    <tr>\n",
       "      <th>20</th>\n",
       "      <td>Georgia</td>\n",
       "      <td>Pablo</td>\n",
       "      <td>0.0</td>\n",
       "      <td>0</td>\n",
       "    </tr>\n",
       "    <tr>\n",
       "      <th>21</th>\n",
       "      <td>Georgia</td>\n",
       "      <td>Vincent</td>\n",
       "      <td>0.0</td>\n",
       "      <td>0</td>\n",
       "    </tr>\n",
       "    <tr>\n",
       "      <th>22</th>\n",
       "      <td>Joan</td>\n",
       "      <td>Lee</td>\n",
       "      <td>3.0</td>\n",
       "      <td>70</td>\n",
       "    </tr>\n",
       "    <tr>\n",
       "      <th>23</th>\n",
       "      <td>Joan</td>\n",
       "      <td>Pablo</td>\n",
       "      <td>0.0</td>\n",
       "      <td>0</td>\n",
       "    </tr>\n",
       "    <tr>\n",
       "      <th>24</th>\n",
       "      <td>Joan</td>\n",
       "      <td>Vincent</td>\n",
       "      <td>0.0</td>\n",
       "      <td>10</td>\n",
       "    </tr>\n",
       "    <tr>\n",
       "      <th>25</th>\n",
       "      <td>Lee</td>\n",
       "      <td>Pablo</td>\n",
       "      <td>0.0</td>\n",
       "      <td>0</td>\n",
       "    </tr>\n",
       "    <tr>\n",
       "      <th>26</th>\n",
       "      <td>Lee</td>\n",
       "      <td>Vincent</td>\n",
       "      <td>0.0</td>\n",
       "      <td>0</td>\n",
       "    </tr>\n",
       "    <tr>\n",
       "      <th>27</th>\n",
       "      <td>Pablo</td>\n",
       "      <td>Vincent</td>\n",
       "      <td>1.0</td>\n",
       "      <td>-20</td>\n",
       "    </tr>\n",
       "  </tbody>\n",
       "</table>\n",
       "</div>"
      ],
      "text/plain": [
       "   employee1 employee2  shared_movie_count  relationship\n",
       "0       Andy    Claude                 1.0             0\n",
       "1       Andy     Frida                 1.0            20\n",
       "2       Andy   Georgia                 1.0           -10\n",
       "3       Andy      Joan                 1.0            30\n",
       "4       Andy       Lee                 1.0           -10\n",
       "5       Andy     Pablo                 1.0           -10\n",
       "6       Andy   Vincent                 0.0            20\n",
       "7     Claude     Frida                 0.0             0\n",
       "8     Claude   Georgia                 3.0            90\n",
       "9     Claude      Joan                 0.0             0\n",
       "10    Claude       Lee                 0.0             0\n",
       "11    Claude     Pablo                 0.0            10\n",
       "12    Claude   Vincent                 0.0             0\n",
       "13     Frida   Georgia                 0.0             0\n",
       "14     Frida      Joan                 0.0             0\n",
       "15     Frida       Lee                 0.0             0\n",
       "16     Frida     Pablo                 2.0            50\n",
       "17     Frida   Vincent                 2.0            60\n",
       "18   Georgia      Joan                 0.0             0\n",
       "19   Georgia       Lee                 0.0            10\n",
       "20   Georgia     Pablo                 0.0             0\n",
       "21   Georgia   Vincent                 0.0             0\n",
       "22      Joan       Lee                 3.0            70\n",
       "23      Joan     Pablo                 0.0             0\n",
       "24      Joan   Vincent                 0.0            10\n",
       "25       Lee     Pablo                 0.0             0\n",
       "26       Lee   Vincent                 0.0             0\n",
       "27     Pablo   Vincent                 1.0           -20"
      ]
     },
     "execution_count": 118,
     "metadata": {},
     "output_type": "execute_result"
    }
   ],
   "source": [
    "merged = pd.merge(\n",
    "    shared_movies, employee_relationships, on=[\"employee1\", \"employee2\"], how=\"outer\"\n",
    ").assign(shared_movie_count=lambda x: x[\"shared_movie_count\"].fillna(0))\n",
    "merged"
   ]
  },
  {
   "cell_type": "code",
   "execution_count": 109,
   "metadata": {},
   "outputs": [
    {
     "name": "stdout",
     "output_type": "stream",
     "text": [
      "Pearson correlation: 0.788\n",
      "P-value: 6.286e-07\n"
     ]
    }
   ],
   "source": [
    "import pandas as pd\n",
    "from scipy.stats import pearsonr\n",
    "\n",
    "# Step 1: Merge on employee pairs\n",
    "\n",
    "# Step 2: Compute Pearson correlation\n",
    "corr, p_value = pearsonr(merged['relationship'], merged['shared_movie_count'])\n",
    "\n",
    "print(f\"Pearson correlation: {corr:.3f}\")\n",
    "print(f\"P-value: {p_value:.3e}\")\n"
   ]
  },
  {
   "cell_type": "code",
   "execution_count": 112,
   "metadata": {},
   "outputs": [
    {
     "data": {
      "text/plain": [
       "np.float64(0.7883962221733474)"
      ]
     },
     "execution_count": 112,
     "metadata": {},
     "output_type": "execute_result"
    }
   ],
   "source": [
    "corr"
   ]
  },
  {
   "cell_type": "code",
   "execution_count": 110,
   "metadata": {},
   "outputs": [
    {
     "data": {
      "application/vnd.microsoft.datawrangler.viewer.v0+json": {
       "columns": [
        {
         "name": "index",
         "rawType": "object",
         "type": "string"
        },
        {
         "name": "relationship",
         "rawType": "float64",
         "type": "float"
        },
        {
         "name": "shared_movie_count",
         "rawType": "float64",
         "type": "float"
        }
       ],
       "conversionMethod": "pd.DataFrame",
       "ref": "7c77a30d-65d1-4229-bb86-5b22aca870dd",
       "rows": [
        [
         "relationship",
         "1.0",
         "0.7883962221733475"
        ],
        [
         "shared_movie_count",
         "0.7883962221733475",
         "1.0"
        ]
       ],
       "shape": {
        "columns": 2,
        "rows": 2
       }
      },
      "text/html": [
       "<div>\n",
       "<style scoped>\n",
       "    .dataframe tbody tr th:only-of-type {\n",
       "        vertical-align: middle;\n",
       "    }\n",
       "\n",
       "    .dataframe tbody tr th {\n",
       "        vertical-align: top;\n",
       "    }\n",
       "\n",
       "    .dataframe thead th {\n",
       "        text-align: right;\n",
       "    }\n",
       "</style>\n",
       "<table border=\"1\" class=\"dataframe\">\n",
       "  <thead>\n",
       "    <tr style=\"text-align: right;\">\n",
       "      <th></th>\n",
       "      <th>relationship</th>\n",
       "      <th>shared_movie_count</th>\n",
       "    </tr>\n",
       "  </thead>\n",
       "  <tbody>\n",
       "    <tr>\n",
       "      <th>relationship</th>\n",
       "      <td>1.000000</td>\n",
       "      <td>0.788396</td>\n",
       "    </tr>\n",
       "    <tr>\n",
       "      <th>shared_movie_count</th>\n",
       "      <td>0.788396</td>\n",
       "      <td>1.000000</td>\n",
       "    </tr>\n",
       "  </tbody>\n",
       "</table>\n",
       "</div>"
      ],
      "text/plain": [
       "                    relationship  shared_movie_count\n",
       "relationship            1.000000            0.788396\n",
       "shared_movie_count      0.788396            1.000000"
      ]
     },
     "execution_count": 110,
     "metadata": {},
     "output_type": "execute_result"
    }
   ],
   "source": [
    "merged[['relationship', 'shared_movie_count']].corr(method='pearson')"
   ]
  },
  {
   "cell_type": "code",
   "execution_count": 111,
   "metadata": {},
   "outputs": [
    {
     "data": {
      "text/plain": [
       "np.float64(0.7883962221733475)"
      ]
     },
     "execution_count": 111,
     "metadata": {},
     "output_type": "execute_result"
    }
   ],
   "source": [
    "merged[['relationship', 'shared_movie_count']].corr(method='pearson').loc['relationship', 'shared_movie_count']"
   ]
  },
  {
   "cell_type": "code",
   "execution_count": 123,
   "metadata": {
    "deletable": false,
    "nbgrader": {
     "cell_type": "code",
     "checksum": "2b46a672ad43d429dc76893d15b8e76a",
     "grade": false,
     "grade_id": "cell-6c1b9a8d087e47c8",
     "locked": false,
     "schema_version": 3,
     "solution": true,
     "task": false
    }
   },
   "outputs": [],
   "source": [
    "def answer_four():\n",
    "\n",
    "    # YOUR CODE HERE\n",
    "    pw = answer_three()\n",
    "    # Sort the columns so the merged data includes all pairs\n",
    "    shared_movies_data = sorted(\n",
    "        [(*sorted([u, v]), d[\"weight\"]) for u, v, d in pw.edges(data=True)]\n",
    "    )\n",
    "    shared_movies = pd.DataFrame(\n",
    "        data=shared_movies_data,\n",
    "        columns=[\"employee1\", \"employee2\", \"shared_movie_count\"],\n",
    "    )\n",
    "\n",
    "    # Read in the employee relationships (sorted names)\n",
    "    column_names = [\"emp1\", \"emp2\", \"relationship\"]\n",
    "    cols_to_keep = [\"employee1\", \"employee2\", \"relationship\"]\n",
    "    employee_relationships = pd.read_csv(\n",
    "        \"assets/Employee_Relationships.txt\",\n",
    "        header=None,\n",
    "        delimiter=\"\\t\",\n",
    "        names=column_names,\n",
    "    ).assign(\n",
    "        **{\n",
    "            \"employee1\": lambda df: df[[\"emp1\", \"emp2\"]].apply(\n",
    "                lambda row: sorted(row)[0], axis=1\n",
    "            ),\n",
    "            \"employee2\": lambda df: df[[\"emp1\", \"emp2\"]].apply(\n",
    "                lambda row: sorted(row)[1], axis=1\n",
    "            ),\n",
    "        }\n",
    "    )[\n",
    "        cols_to_keep\n",
    "    ]\n",
    "    # Merge on employee pairs\n",
    "    # If no movies in common, assign 0\n",
    "    merged = pd.merge(\n",
    "        shared_movies,\n",
    "        employee_relationships,\n",
    "        on=[\"employee1\", \"employee2\"],\n",
    "        how=\"outer\",\n",
    "    ).assign(shared_movie_count=lambda x: x[\"shared_movie_count\"].fillna(0))\n",
    "\n",
    "    corr = merged[['relationship', 'shared_movie_count']].corr(method='pearson').loc['relationship', 'shared_movie_count']\n",
    "    return corr"
   ]
  },
  {
   "cell_type": "code",
   "execution_count": 124,
   "metadata": {},
   "outputs": [
    {
     "data": {
      "text/plain": [
       "np.float64(0.7883962221733475)"
      ]
     },
     "execution_count": 124,
     "metadata": {},
     "output_type": "execute_result"
    }
   ],
   "source": [
    "answer_four()"
   ]
  },
  {
   "cell_type": "code",
   "execution_count": 125,
   "metadata": {
    "deletable": false,
    "editable": false,
    "nbgrader": {
     "cell_type": "code",
     "checksum": "a77b0d29ae15deba7b0ad67c71334004",
     "grade": true,
     "grade_id": "cell-b7b288e5ac139702",
     "locked": true,
     "points": 4,
     "schema_version": 3,
     "solution": false,
     "task": false
    }
   },
   "outputs": [],
   "source": [
    "ans_four = answer_four()"
   ]
  },
  {
   "cell_type": "code",
   "execution_count": null,
   "metadata": {},
   "outputs": [],
   "source": []
  }
 ],
 "metadata": {
  "anaconda-cloud": {},
  "kernelspec": {
   "display_name": ".venv",
   "language": "python",
   "name": "python3"
  },
  "language_info": {
   "codemirror_mode": {
    "name": "ipython",
    "version": 3
   },
   "file_extension": ".py",
   "mimetype": "text/x-python",
   "name": "python",
   "nbconvert_exporter": "python",
   "pygments_lexer": "ipython3",
   "version": "3.12.7"
  }
 },
 "nbformat": 4,
 "nbformat_minor": 4
}
