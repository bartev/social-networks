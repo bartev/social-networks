{
 "cells": [
  {
   "cell_type": "markdown",
   "id": "2d2fa9c2",
   "metadata": {},
   "source": [
    "# My first notebook"
   ]
  },
  {
   "cell_type": "code",
   "execution_count": 3,
   "id": "f31557de",
   "metadata": {},
   "outputs": [
    {
     "name": "stdout",
     "output_type": "stream",
     "text": [
      "hello world\n"
     ]
    }
   ],
   "source": [
    "print(\"hello world\")"
   ]
  },
  {
   "cell_type": "code",
   "execution_count": 2,
   "id": "2744c5e0",
   "metadata": {},
   "outputs": [],
   "source": [
    "import pandas as pd\n",
    "import random\n",
    "import matplotlib.pyplot as plt"
   ]
  },
  {
   "cell_type": "code",
   "execution_count": 4,
   "id": "52890a8e",
   "metadata": {},
   "outputs": [
    {
     "data": {
      "text/html": [
       "<div>\n",
       "<style scoped>\n",
       "    .dataframe tbody tr th:only-of-type {\n",
       "        vertical-align: middle;\n",
       "    }\n",
       "\n",
       "    .dataframe tbody tr th {\n",
       "        vertical-align: top;\n",
       "    }\n",
       "\n",
       "    .dataframe thead th {\n",
       "        text-align: right;\n",
       "    }\n",
       "</style>\n",
       "<table border=\"1\" class=\"dataframe\">\n",
       "  <thead>\n",
       "    <tr style=\"text-align: right;\">\n",
       "      <th></th>\n",
       "      <th>prod_id</th>\n",
       "      <th>prod_name</th>\n",
       "      <th>prod_cats</th>\n",
       "      <th>price</th>\n",
       "      <th>stock</th>\n",
       "    </tr>\n",
       "  </thead>\n",
       "  <tbody>\n",
       "    <tr>\n",
       "      <th>0</th>\n",
       "      <td>101</td>\n",
       "      <td>c</td>\n",
       "      <td>clothing</td>\n",
       "      <td>8.28</td>\n",
       "      <td>60</td>\n",
       "    </tr>\n",
       "    <tr>\n",
       "      <th>1</th>\n",
       "      <td>102</td>\n",
       "      <td>a</td>\n",
       "      <td>electronics</td>\n",
       "      <td>12.58</td>\n",
       "      <td>198</td>\n",
       "    </tr>\n",
       "    <tr>\n",
       "      <th>2</th>\n",
       "      <td>103</td>\n",
       "      <td>b</td>\n",
       "      <td>furniture</td>\n",
       "      <td>5.40</td>\n",
       "      <td>128</td>\n",
       "    </tr>\n",
       "    <tr>\n",
       "      <th>3</th>\n",
       "      <td>104</td>\n",
       "      <td>a</td>\n",
       "      <td>electronics</td>\n",
       "      <td>7.98</td>\n",
       "      <td>107</td>\n",
       "    </tr>\n",
       "    <tr>\n",
       "      <th>4</th>\n",
       "      <td>105</td>\n",
       "      <td>c</td>\n",
       "      <td>clothing</td>\n",
       "      <td>14.75</td>\n",
       "      <td>91</td>\n",
       "    </tr>\n",
       "    <tr>\n",
       "      <th>5</th>\n",
       "      <td>106</td>\n",
       "      <td>c</td>\n",
       "      <td>clothing</td>\n",
       "      <td>13.17</td>\n",
       "      <td>59</td>\n",
       "    </tr>\n",
       "    <tr>\n",
       "      <th>6</th>\n",
       "      <td>107</td>\n",
       "      <td>d</td>\n",
       "      <td>food</td>\n",
       "      <td>8.31</td>\n",
       "      <td>75</td>\n",
       "    </tr>\n",
       "    <tr>\n",
       "      <th>7</th>\n",
       "      <td>108</td>\n",
       "      <td>a</td>\n",
       "      <td>electronics</td>\n",
       "      <td>13.84</td>\n",
       "      <td>106</td>\n",
       "    </tr>\n",
       "    <tr>\n",
       "      <th>8</th>\n",
       "      <td>109</td>\n",
       "      <td>b</td>\n",
       "      <td>furniture</td>\n",
       "      <td>17.14</td>\n",
       "      <td>46</td>\n",
       "    </tr>\n",
       "    <tr>\n",
       "      <th>9</th>\n",
       "      <td>110</td>\n",
       "      <td>a</td>\n",
       "      <td>electronics</td>\n",
       "      <td>5.10</td>\n",
       "      <td>43</td>\n",
       "    </tr>\n",
       "  </tbody>\n",
       "</table>\n",
       "</div>"
      ],
      "text/plain": [
       "   prod_id prod_name    prod_cats  price  stock\n",
       "0      101         c     clothing   8.28     60\n",
       "1      102         a  electronics  12.58    198\n",
       "2      103         b    furniture   5.40    128\n",
       "3      104         a  electronics   7.98    107\n",
       "4      105         c     clothing  14.75     91\n",
       "5      106         c     clothing  13.17     59\n",
       "6      107         d         food   8.31     75\n",
       "7      108         a  electronics  13.84    106\n",
       "8      109         b    furniture  17.14     46\n",
       "9      110         a  electronics   5.10     43"
      ]
     },
     "execution_count": 4,
     "metadata": {},
     "output_type": "execute_result"
    }
   ],
   "source": [
    "random.seed(42)\n",
    "prod_enums = {'a':\"electronics\", 'b':'furniture', 'c':'clothing', 'd':'food'}\n",
    "prod_names = random.choices(list(prod_enums.keys()), k=10)\n",
    "prod_cats = [prod_enums[name] for name in prod_names]\n",
    "data = {\n",
    "    \"prod_id\": range(101, 111),\n",
    "    \"prod_name\": prod_names,\n",
    "    \"prod_cats\": prod_cats,\n",
    "    \"price\": [round(random.uniform(5, 20), 2) for _ in range(10)],\n",
    "    \"stock\": [random.randint(20, 200) for _ in range(10)]\n",
    "\n",
    "}\n",
    "df = pd.DataFrame(data)\n",
    "df"
   ]
  },
  {
   "cell_type": "code",
   "execution_count": 5,
   "id": "620262aa",
   "metadata": {},
   "outputs": [
    {
     "data": {
      "image/png": "[encoded data removed]",
      "text/plain": [
       "<Figure size 640x480 with 1 Axes>"
      ]
     },
     "metadata": {},
     "output_type": "display_data"
    }
   ],
   "source": [
    "plt.scatter(df['price'], df['stock'])\n",
    "plt.show()"
   ]
  },
  {
   "cell_type": "code",
   "execution_count": null,
   "id": "6591cd7a",
   "metadata": {},
   "outputs": [],
   "source": []
  }
 ],
 "metadata": {
  "kernelspec": {
   "display_name": ".venv",
   "language": "python",
   "name": "python3"
  },
  "language_info": {
   "codemirror_mode": {
    "name": "ipython",
    "version": 3
   },
   "file_extension": ".py",
   "mimetype": "text/x-python",
   "name": "python",
   "nbconvert_exporter": "python",
   "pygments_lexer": "ipython3",
   "version": "3.12.7"
  }
 },
 "nbformat": 4,
 "nbformat_minor": 5
}
